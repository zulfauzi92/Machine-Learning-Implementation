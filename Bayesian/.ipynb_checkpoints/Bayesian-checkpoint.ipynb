{
 "cells": [
  {
   "cell_type": "code",
   "execution_count": 484,
   "metadata": {},
   "outputs": [],
   "source": [
    "import math\n",
    "import pandas as pd\n",
    "import numpy as np"
   ]
  },
  {
   "cell_type": "code",
   "execution_count": 485,
   "metadata": {},
   "outputs": [],
   "source": [
    "data = pd.read_csv('data.csv')\n",
    "attribute = np.array(data)[:,:]"
   ]
  },
  {
   "cell_type": "code",
   "execution_count": 486,
   "metadata": {},
   "outputs": [
    {
     "data": {
      "text/plain": [
       "array([['Pria', 'Ya', 'Tidak', 'Ya'],\n",
       "       ['Pria', 'Ya', 'Ya', 'Tidak'],\n",
       "       ['Pria', 'Ya', 'Tidak', 'Tidak'],\n",
       "       ['Pria', 'Tidak', 'Tidak', 'Tidak'],\n",
       "       ['Wanita', 'Tidak', 'Tidak', 'Ya'],\n",
       "       ['Pria', 'Tidak', 'Ya', 'Ya'],\n",
       "       ['Pria', 'Tidak', 'Ya', 'Tidak'],\n",
       "       ['Wanita', 'Tidak', 'Tidak', 'Ya'],\n",
       "       ['Pria', 'Ya', 'Tidak', 'Tidak'],\n",
       "       ['Pria', 'Ya', 'Tidak', 'Tidak'],\n",
       "       ['Pria', 'Ya', 'Ya', 'Ya'],\n",
       "       ['Pria', 'Ya', 'Tidak', 'Tidak'],\n",
       "       ['Pria', 'Tidak', 'Tidak', 'Tidak'],\n",
       "       ['Pria', 'Tidak', 'Ya', 'Tidak'],\n",
       "       ['Pria', 'Ya', 'Tidak', 'Tidak']], dtype=object)"
      ]
     },
     "execution_count": 486,
     "metadata": {},
     "output_type": "execute_result"
    }
   ],
   "source": [
    "attribute"
   ]
  },
  {
   "cell_type": "code",
   "execution_count": 487,
   "metadata": {},
   "outputs": [],
   "source": [
    "def separateByClass(attribute):\n",
    "    separated = {}\n",
    "    for i in range(len(attribute)):\n",
    "        vector = attribute[i]\n",
    "        if (vector[-1] not in separated):\n",
    "            separated[vector[-1]] = []\n",
    "        separated[vector[-1]].append(vector)\n",
    "    return separated"
   ]
  },
  {
   "cell_type": "code",
   "execution_count": 488,
   "metadata": {},
   "outputs": [],
   "source": [
    "separateData = separateByClass(attribute)"
   ]
  },
  {
   "cell_type": "code",
   "execution_count": 489,
   "metadata": {},
   "outputs": [
    {
     "data": {
      "text/plain": [
       "{'Ya': [array(['Pria', 'Ya', 'Tidak', 'Ya'], dtype=object),\n",
       "  array(['Wanita', 'Tidak', 'Tidak', 'Ya'], dtype=object),\n",
       "  array(['Pria', 'Tidak', 'Ya', 'Ya'], dtype=object),\n",
       "  array(['Wanita', 'Tidak', 'Tidak', 'Ya'], dtype=object),\n",
       "  array(['Pria', 'Ya', 'Ya', 'Ya'], dtype=object)],\n",
       " 'Tidak': [array(['Pria', 'Ya', 'Ya', 'Tidak'], dtype=object),\n",
       "  array(['Pria', 'Ya', 'Tidak', 'Tidak'], dtype=object),\n",
       "  array(['Pria', 'Tidak', 'Tidak', 'Tidak'], dtype=object),\n",
       "  array(['Pria', 'Tidak', 'Ya', 'Tidak'], dtype=object),\n",
       "  array(['Pria', 'Ya', 'Tidak', 'Tidak'], dtype=object),\n",
       "  array(['Pria', 'Ya', 'Tidak', 'Tidak'], dtype=object),\n",
       "  array(['Pria', 'Ya', 'Tidak', 'Tidak'], dtype=object),\n",
       "  array(['Pria', 'Tidak', 'Tidak', 'Tidak'], dtype=object),\n",
       "  array(['Pria', 'Tidak', 'Ya', 'Tidak'], dtype=object),\n",
       "  array(['Pria', 'Ya', 'Tidak', 'Tidak'], dtype=object)]}"
      ]
     },
     "execution_count": 489,
     "metadata": {},
     "output_type": "execute_result"
    }
   ],
   "source": [
    "separateData"
   ]
  },
  {
   "cell_type": "code",
   "execution_count": 490,
   "metadata": {},
   "outputs": [],
   "source": [
    "def getConclusion(dataset):\n",
    "    copy = list(dataset)\n",
    "    return copy"
   ]
  },
  {
   "cell_type": "code",
   "execution_count": 491,
   "metadata": {},
   "outputs": [],
   "source": [
    "conclusion = getConclusion(separateData)"
   ]
  },
  {
   "cell_type": "code",
   "execution_count": 492,
   "metadata": {},
   "outputs": [
    {
     "data": {
      "text/plain": [
       "['Ya', 'Tidak']"
      ]
     },
     "execution_count": 492,
     "metadata": {},
     "output_type": "execute_result"
    }
   ],
   "source": [
    "conclusion"
   ]
  },
  {
   "cell_type": "code",
   "execution_count": 544,
   "metadata": {},
   "outputs": [],
   "source": [
    "totalData = len(separateData[conclusion[0]]) + len(separateData[conclusion[1]])"
   ]
  },
  {
   "cell_type": "code",
   "execution_count": 545,
   "metadata": {},
   "outputs": [],
   "source": [
    "def getProbability(separateData, testSet, totalData, conclusion):\n",
    "    total1 = 0\n",
    "    total2 = 0\n",
    "    total3 = 0\n",
    "    dataConclusion = len(separateData[conclusion])\n",
    "    probabilityTotal = dataConclusion / totalData\n",
    "\n",
    "    for i in range(len(testSet)):\n",
    "        for j in range(len(separateData[conclusion])):\n",
    "            if(testSet[0] == separateData[conclusion][j][i] and i == 0):\n",
    "                total1 += 1\n",
    "            elif(testSet[1] == separateData[conclusion][j][i] and i == 1):\n",
    "                total2 += 1\n",
    "            elif(testSet[2] == separateData[conclusion][j][i] and i == 2):\n",
    "                total3 += 1\n",
    "                \n",
    "    return total1/dataConclusion, total2/dataConclusion, total3/dataConclusion, probabilityTotal, conclusion"
   ]
  },
  {
   "cell_type": "code",
   "execution_count": 546,
   "metadata": {},
   "outputs": [],
   "source": [
    "def getResult(probability1, probability2):\n",
    "    p1 = 1\n",
    "    p2 = 1\n",
    "    \n",
    "    for i in range(len(probability1)-1):\n",
    "        p1 *= probability1[i]\n",
    "        p2 *= probability2[i]\n",
    "    \n",
    "    if (p1 < p2):\n",
    "        result = probability2[-1]\n",
    "    else :\n",
    "        result = probability1[-1]\n",
    "        \n",
    "    return result, p1, p2"
   ]
  },
  {
   "cell_type": "code",
   "execution_count": 547,
   "metadata": {},
   "outputs": [],
   "source": [
    "testSet = ['Pria', 'Ya', 'Ya']"
   ]
  },
  {
   "cell_type": "code",
   "execution_count": 548,
   "metadata": {},
   "outputs": [],
   "source": [
    "probability1 = getProbability(separateData, testSet, totalData, conclusion[0])\n",
    "probability2 = getProbability(separateData, testSet, totalData, conclusion[1])"
   ]
  },
  {
   "cell_type": "code",
   "execution_count": 551,
   "metadata": {},
   "outputs": [
    {
     "name": "stdout",
     "output_type": "stream",
     "text": [
      "Result :  Tidak\n",
      "Probability Ya :  0.032\n",
      "Probability Tidak :  0.12\n"
     ]
    }
   ],
   "source": [
    "result = getResult(probability1, probability2)\n",
    "print(\"Result : \", result[0])\n",
    "print(\"Probability\",probability1[-1], \": \", result[1])\n",
    "print(\"Probability\",probability2[-1], \": \", result[2])"
   ]
  },
  {
   "cell_type": "code",
   "execution_count": null,
   "metadata": {},
   "outputs": [],
   "source": []
  },
  {
   "cell_type": "code",
   "execution_count": null,
   "metadata": {},
   "outputs": [],
   "source": []
  }
 ],
 "metadata": {
  "kernelspec": {
   "display_name": "Python 3",
   "language": "python",
   "name": "python3"
  },
  "language_info": {
   "codemirror_mode": {
    "name": "ipython",
    "version": 3
   },
   "file_extension": ".py",
   "mimetype": "text/x-python",
   "name": "python",
   "nbconvert_exporter": "python",
   "pygments_lexer": "ipython3",
   "version": "3.8.3"
  }
 },
 "nbformat": 4,
 "nbformat_minor": 4
}
