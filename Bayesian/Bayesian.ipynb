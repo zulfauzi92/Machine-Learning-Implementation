{
 "cells": [
  {
   "cell_type": "code",
   "execution_count": 69,
   "metadata": {},
   "outputs": [],
   "source": [
    "import math\n",
    "import pandas as pd\n",
    "import numpy as np"
   ]
  },
  {
   "cell_type": "code",
   "execution_count": 70,
   "metadata": {},
   "outputs": [],
   "source": [
    "data = pd.read_csv('data.csv')\n",
    "attribute = np.array(data)[:,:]"
   ]
  },
  {
   "cell_type": "code",
   "execution_count": 71,
   "metadata": {},
   "outputs": [
    {
     "data": {
      "text/plain": [
       "array([['Pria', 'Ya', 'Tidak', 'Ya'],\n",
       "       ['Pria', 'Ya', 'Ya', 'Tidak'],\n",
       "       ['Pria', 'Ya', 'Tidak', 'Tidak'],\n",
       "       ['Pria', 'Tidak', 'Tidak', 'Tidak'],\n",
       "       ['Wanita', 'Tidak', 'Tidak', 'Ya'],\n",
       "       ['Wanita', 'Tidak', 'Tidak', 'Ya'],\n",
       "       ['Wanita', 'Tidak', 'Tidak', 'Ya'],\n",
       "       ['Wanita', 'Tidak', 'Tidak', 'Ya'],\n",
       "       ['Wanita', 'Tidak', 'Ya', 'Ya'],\n",
       "       ['Wanita', 'Ya', 'Ya', 'Ya'],\n",
       "       ['Wanita', 'Ya', 'Ya', 'Tidak'],\n",
       "       ['Wanita', 'Ya', 'Tidak', 'Tidak'],\n",
       "       ['Wanita', 'Ya', 'Ya', 'Tidak'],\n",
       "       ['Wanita', 'Ya', 'Tidak', 'Tidak'],\n",
       "       ['Wanita', 'Ya', 'Ya', 'Tidak'],\n",
       "       ['Wanita', 'Ya', 'Tidak', 'Tidak'],\n",
       "       ['Wanita', 'Tidak', 'Tidak', 'Tidak'],\n",
       "       ['Pria', 'Ya', 'Tidak', 'Ya'],\n",
       "       ['Pria', 'Ya', 'Ya', 'Tidak'],\n",
       "       ['Pria', 'Ya', 'Tidak', 'Tidak'],\n",
       "       ['Pria', 'Tidak', 'Tidak', 'Tidak'],\n",
       "       ['Wanita', 'Tidak', 'Tidak', 'Ya'],\n",
       "       ['Wanita', 'Tidak', 'Tidak', 'Ya'],\n",
       "       ['Wanita', 'Tidak', 'Tidak', 'Ya'],\n",
       "       ['Wanita', 'Tidak', 'Tidak', 'Ya'],\n",
       "       ['Wanita', 'Tidak', 'Ya', 'Ya'],\n",
       "       ['Wanita', 'Ya', 'Ya', 'Ya'],\n",
       "       ['Wanita', 'Ya', 'Ya', 'Tidak'],\n",
       "       ['Wanita', 'Ya', 'Tidak', 'Tidak'],\n",
       "       ['Wanita', 'Ya', 'Ya', 'Tidak'],\n",
       "       ['Wanita', 'Ya', 'Tidak', 'Tidak'],\n",
       "       ['Pria', 'Tidak', 'Ya', 'Ya'],\n",
       "       ['Pria', 'Tidak', 'Ya', 'Tidak'],\n",
       "       ['Wanita', 'Tidak', 'Tidak', 'Ya'],\n",
       "       ['Pria', 'Ya', 'Tidak', 'Tidak'],\n",
       "       ['Pria', 'Ya', 'Tidak', 'Tidak'],\n",
       "       ['Pria', 'Ya', 'Ya', 'Ya'],\n",
       "       ['Pria', 'Ya', 'Tidak', 'Tidak'],\n",
       "       ['Pria', 'Tidak', 'Tidak', 'Tidak'],\n",
       "       ['Pria', 'Tidak', 'Ya', 'Tidak'],\n",
       "       ['Pria', 'Ya', 'Tidak', 'Tidak']], dtype=object)"
      ]
     },
     "execution_count": 71,
     "metadata": {},
     "output_type": "execute_result"
    }
   ],
   "source": [
    "attribute"
   ]
  },
  {
   "cell_type": "code",
   "execution_count": 72,
   "metadata": {},
   "outputs": [],
   "source": [
    "def separateByClass(attribute):\n",
    "    separated = {}\n",
    "    for i in range(len(attribute)):\n",
    "        vector = attribute[i]\n",
    "        if (vector[-1] not in separated):\n",
    "            separated[vector[-1]] = []\n",
    "        separated[vector[-1]].append(vector)\n",
    "    return separated"
   ]
  },
  {
   "cell_type": "code",
   "execution_count": 73,
   "metadata": {},
   "outputs": [],
   "source": [
    "separateData = separateByClass(attribute)"
   ]
  },
  {
   "cell_type": "code",
   "execution_count": 74,
   "metadata": {},
   "outputs": [
    {
     "data": {
      "text/plain": [
       "{'Ya': [array(['Pria', 'Ya', 'Tidak', 'Ya'], dtype=object),\n",
       "  array(['Wanita', 'Tidak', 'Tidak', 'Ya'], dtype=object),\n",
       "  array(['Wanita', 'Tidak', 'Tidak', 'Ya'], dtype=object),\n",
       "  array(['Wanita', 'Tidak', 'Tidak', 'Ya'], dtype=object),\n",
       "  array(['Wanita', 'Tidak', 'Tidak', 'Ya'], dtype=object),\n",
       "  array(['Wanita', 'Tidak', 'Ya', 'Ya'], dtype=object),\n",
       "  array(['Wanita', 'Ya', 'Ya', 'Ya'], dtype=object),\n",
       "  array(['Pria', 'Ya', 'Tidak', 'Ya'], dtype=object),\n",
       "  array(['Wanita', 'Tidak', 'Tidak', 'Ya'], dtype=object),\n",
       "  array(['Wanita', 'Tidak', 'Tidak', 'Ya'], dtype=object),\n",
       "  array(['Wanita', 'Tidak', 'Tidak', 'Ya'], dtype=object),\n",
       "  array(['Wanita', 'Tidak', 'Tidak', 'Ya'], dtype=object),\n",
       "  array(['Wanita', 'Tidak', 'Ya', 'Ya'], dtype=object),\n",
       "  array(['Wanita', 'Ya', 'Ya', 'Ya'], dtype=object),\n",
       "  array(['Pria', 'Tidak', 'Ya', 'Ya'], dtype=object),\n",
       "  array(['Wanita', 'Tidak', 'Tidak', 'Ya'], dtype=object),\n",
       "  array(['Pria', 'Ya', 'Ya', 'Ya'], dtype=object)],\n",
       " 'Tidak': [array(['Pria', 'Ya', 'Ya', 'Tidak'], dtype=object),\n",
       "  array(['Pria', 'Ya', 'Tidak', 'Tidak'], dtype=object),\n",
       "  array(['Pria', 'Tidak', 'Tidak', 'Tidak'], dtype=object),\n",
       "  array(['Wanita', 'Ya', 'Ya', 'Tidak'], dtype=object),\n",
       "  array(['Wanita', 'Ya', 'Tidak', 'Tidak'], dtype=object),\n",
       "  array(['Wanita', 'Ya', 'Ya', 'Tidak'], dtype=object),\n",
       "  array(['Wanita', 'Ya', 'Tidak', 'Tidak'], dtype=object),\n",
       "  array(['Wanita', 'Ya', 'Ya', 'Tidak'], dtype=object),\n",
       "  array(['Wanita', 'Ya', 'Tidak', 'Tidak'], dtype=object),\n",
       "  array(['Wanita', 'Tidak', 'Tidak', 'Tidak'], dtype=object),\n",
       "  array(['Pria', 'Ya', 'Ya', 'Tidak'], dtype=object),\n",
       "  array(['Pria', 'Ya', 'Tidak', 'Tidak'], dtype=object),\n",
       "  array(['Pria', 'Tidak', 'Tidak', 'Tidak'], dtype=object),\n",
       "  array(['Wanita', 'Ya', 'Ya', 'Tidak'], dtype=object),\n",
       "  array(['Wanita', 'Ya', 'Tidak', 'Tidak'], dtype=object),\n",
       "  array(['Wanita', 'Ya', 'Ya', 'Tidak'], dtype=object),\n",
       "  array(['Wanita', 'Ya', 'Tidak', 'Tidak'], dtype=object),\n",
       "  array(['Pria', 'Tidak', 'Ya', 'Tidak'], dtype=object),\n",
       "  array(['Pria', 'Ya', 'Tidak', 'Tidak'], dtype=object),\n",
       "  array(['Pria', 'Ya', 'Tidak', 'Tidak'], dtype=object),\n",
       "  array(['Pria', 'Ya', 'Tidak', 'Tidak'], dtype=object),\n",
       "  array(['Pria', 'Tidak', 'Tidak', 'Tidak'], dtype=object),\n",
       "  array(['Pria', 'Tidak', 'Ya', 'Tidak'], dtype=object),\n",
       "  array(['Pria', 'Ya', 'Tidak', 'Tidak'], dtype=object)]}"
      ]
     },
     "execution_count": 74,
     "metadata": {},
     "output_type": "execute_result"
    }
   ],
   "source": [
    "separateData"
   ]
  },
  {
   "cell_type": "code",
   "execution_count": 75,
   "metadata": {},
   "outputs": [],
   "source": [
    "def getConclusion(dataset):\n",
    "    copy = list(dataset)\n",
    "    return copy"
   ]
  },
  {
   "cell_type": "code",
   "execution_count": 76,
   "metadata": {},
   "outputs": [],
   "source": [
    "conclusion = getConclusion(separateData)"
   ]
  },
  {
   "cell_type": "code",
   "execution_count": 77,
   "metadata": {},
   "outputs": [
    {
     "data": {
      "text/plain": [
       "['Ya', 'Tidak']"
      ]
     },
     "execution_count": 77,
     "metadata": {},
     "output_type": "execute_result"
    }
   ],
   "source": [
    "conclusion"
   ]
  },
  {
   "cell_type": "code",
   "execution_count": 78,
   "metadata": {},
   "outputs": [],
   "source": [
    "totalData = len(separateData[conclusion[0]]) + len(separateData[conclusion[1]])"
   ]
  },
  {
   "cell_type": "code",
   "execution_count": 79,
   "metadata": {},
   "outputs": [],
   "source": [
    "def getProbability(testSet, totalData, conclusion):\n",
    "    total1 = 0\n",
    "    total = []\n",
    "    dataConclusion = len(separateData[conclusion])\n",
    "    probabilityTotal = dataConclusion / totalData\n",
    "\n",
    "    for i in range(len(testSet)):\n",
    "        for j in range(len(separateData[conclusion])):\n",
    "            if(testSet[i] == separateData[conclusion][j][i]):\n",
    "                total1 += 1\n",
    "        total.append(total1/dataConclusion)\n",
    "        total1 = 0\n",
    "    \n",
    "    total.append(probabilityTotal)\n",
    "    total.append(conclusion)\n",
    "                \n",
    "    return total"
   ]
  },
  {
   "cell_type": "code",
   "execution_count": 80,
   "metadata": {},
   "outputs": [],
   "source": [
    "def getResult(probability1, probability2):\n",
    "    p1 = 1\n",
    "    p2 = 1\n",
    "    \n",
    "    for i in range(len(probability1)-1):\n",
    "        p1 *= probability1[i]\n",
    "        p2 *= probability2[i]\n",
    "    \n",
    "    if (p1 < p2):\n",
    "        result = probability2[-1]\n",
    "    else :\n",
    "        result = probability1[-1]\n",
    "        \n",
    "    return result, p1, p2"
   ]
  },
  {
   "cell_type": "code",
   "execution_count": 84,
   "metadata": {},
   "outputs": [],
   "source": [
    "testSet = ['Pria', 'Ya', 'Ya']"
   ]
  },
  {
   "cell_type": "code",
   "execution_count": 85,
   "metadata": {},
   "outputs": [],
   "source": [
    "probability1 = getProbability(testSet, totalData, conclusion[0])\n",
    "probability2 = getProbability(testSet, totalData, conclusion[1])"
   ]
  },
  {
   "cell_type": "code",
   "execution_count": 86,
   "metadata": {},
   "outputs": [
    {
     "name": "stdout",
     "output_type": "stream",
     "text": [
      "Result :  Tidak\n",
      "\n",
      "Probability Ya :  0.010127436914507553\n",
      "Probability Tidak :  0.08917682926829268\n"
     ]
    }
   ],
   "source": [
    "result = getResult(probability1, probability2)\n",
    "\n",
    "print(\"Result : \", result[0])\n",
    "print(\"\\nProbability\",probability1[-1], \": \", result[1])\n",
    "print(\"Probability\",probability2[-1], \": \", result[2])"
   ]
  },
  {
   "cell_type": "code",
   "execution_count": null,
   "metadata": {},
   "outputs": [],
   "source": []
  },
  {
   "cell_type": "code",
   "execution_count": null,
   "metadata": {},
   "outputs": [],
   "source": []
  },
  {
   "cell_type": "code",
   "execution_count": null,
   "metadata": {},
   "outputs": [],
   "source": []
  },
  {
   "cell_type": "code",
   "execution_count": null,
   "metadata": {},
   "outputs": [],
   "source": []
  },
  {
   "cell_type": "code",
   "execution_count": null,
   "metadata": {},
   "outputs": [],
   "source": []
  },
  {
   "cell_type": "code",
   "execution_count": null,
   "metadata": {},
   "outputs": [],
   "source": []
  },
  {
   "cell_type": "code",
   "execution_count": null,
   "metadata": {},
   "outputs": [],
   "source": []
  },
  {
   "cell_type": "code",
   "execution_count": null,
   "metadata": {},
   "outputs": [],
   "source": []
  }
 ],
 "metadata": {
  "kernelspec": {
   "display_name": "Python 3",
   "language": "python",
   "name": "python3"
  },
  "language_info": {
   "codemirror_mode": {
    "name": "ipython",
    "version": 3
   },
   "file_extension": ".py",
   "mimetype": "text/x-python",
   "name": "python",
   "nbconvert_exporter": "python",
   "pygments_lexer": "ipython3",
   "version": "3.8.3"
  }
 },
 "nbformat": 4,
 "nbformat_minor": 4
}
