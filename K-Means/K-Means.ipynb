{
 "cells": [
  {
   "cell_type": "code",
   "execution_count": 2,
   "metadata": {},
   "outputs": [],
   "source": [
    "import pandas as pd\n",
    "import numpy as np\n",
    "import seaborn as sns\n",
    "import matplotlib.pyplot as plt\n",
    "from random import sample"
   ]
  },
  {
   "cell_type": "code",
   "execution_count": 3,
   "metadata": {},
   "outputs": [
    {
     "data": {
      "text/html": [
       "<div>\n",
       "<style scoped>\n",
       "    .dataframe tbody tr th:only-of-type {\n",
       "        vertical-align: middle;\n",
       "    }\n",
       "\n",
       "    .dataframe tbody tr th {\n",
       "        vertical-align: top;\n",
       "    }\n",
       "\n",
       "    .dataframe thead th {\n",
       "        text-align: right;\n",
       "    }\n",
       "</style>\n",
       "<table border=\"1\" class=\"dataframe\">\n",
       "  <thead>\n",
       "    <tr style=\"text-align: right;\">\n",
       "      <th></th>\n",
       "      <th>x</th>\n",
       "      <th>y</th>\n",
       "    </tr>\n",
       "  </thead>\n",
       "  <tbody>\n",
       "    <tr>\n",
       "      <th>0</th>\n",
       "      <td>4</td>\n",
       "      <td>53</td>\n",
       "    </tr>\n",
       "    <tr>\n",
       "      <th>1</th>\n",
       "      <td>5</td>\n",
       "      <td>63</td>\n",
       "    </tr>\n",
       "    <tr>\n",
       "      <th>2</th>\n",
       "      <td>10</td>\n",
       "      <td>59</td>\n",
       "    </tr>\n",
       "    <tr>\n",
       "      <th>3</th>\n",
       "      <td>9</td>\n",
       "      <td>77</td>\n",
       "    </tr>\n",
       "    <tr>\n",
       "      <th>4</th>\n",
       "      <td>13</td>\n",
       "      <td>49</td>\n",
       "    </tr>\n",
       "    <tr>\n",
       "      <th>...</th>\n",
       "      <td>...</td>\n",
       "      <td>...</td>\n",
       "    </tr>\n",
       "    <tr>\n",
       "      <th>70</th>\n",
       "      <td>66</td>\n",
       "      <td>23</td>\n",
       "    </tr>\n",
       "    <tr>\n",
       "      <th>71</th>\n",
       "      <td>61</td>\n",
       "      <td>25</td>\n",
       "    </tr>\n",
       "    <tr>\n",
       "      <th>72</th>\n",
       "      <td>76</td>\n",
       "      <td>27</td>\n",
       "    </tr>\n",
       "    <tr>\n",
       "      <th>73</th>\n",
       "      <td>72</td>\n",
       "      <td>31</td>\n",
       "    </tr>\n",
       "    <tr>\n",
       "      <th>74</th>\n",
       "      <td>64</td>\n",
       "      <td>30</td>\n",
       "    </tr>\n",
       "  </tbody>\n",
       "</table>\n",
       "<p>75 rows × 2 columns</p>\n",
       "</div>"
      ],
      "text/plain": [
       "     x   y\n",
       "0    4  53\n",
       "1    5  63\n",
       "2   10  59\n",
       "3    9  77\n",
       "4   13  49\n",
       "..  ..  ..\n",
       "70  66  23\n",
       "71  61  25\n",
       "72  76  27\n",
       "73  72  31\n",
       "74  64  30\n",
       "\n",
       "[75 rows x 2 columns]"
      ]
     },
     "execution_count": 3,
     "metadata": {},
     "output_type": "execute_result"
    }
   ],
   "source": [
    "#ZUL FAUZI OKTAVIANSYAH\n",
    "#2110181056\n",
    "\n",
    "data = pd.read_csv('data.csv')\n",
    "data"
   ]
  },
  {
   "cell_type": "code",
   "execution_count": 4,
   "metadata": {},
   "outputs": [
    {
     "data": {
      "text/plain": [
       "array([[  4,  53],\n",
       "       [  5,  63],\n",
       "       [ 10,  59],\n",
       "       [  9,  77],\n",
       "       [ 13,  49],\n",
       "       [ 13,  69],\n",
       "       [ 12,  88],\n",
       "       [ 15,  75],\n",
       "       [ 18,  61],\n",
       "       [ 19,  65],\n",
       "       [ 22,  74],\n",
       "       [ 27,  72],\n",
       "       [ 28,  76],\n",
       "       [ 24,  58],\n",
       "       [ 27,  55],\n",
       "       [ 28,  60],\n",
       "       [ 30,  52],\n",
       "       [ 31,  60],\n",
       "       [ 32,  61],\n",
       "       [ 36,  72],\n",
       "       [ 28, 147],\n",
       "       [ 32, 149],\n",
       "       [ 35, 153],\n",
       "       [ 33, 154],\n",
       "       [ 38, 151],\n",
       "       [ 41, 150],\n",
       "       [ 38, 145],\n",
       "       [ 38, 143],\n",
       "       [ 32, 143],\n",
       "       [ 34, 141],\n",
       "       [ 44, 156],\n",
       "       [ 44, 149],\n",
       "       [ 44, 143],\n",
       "       [ 46, 142],\n",
       "       [ 47, 149],\n",
       "       [ 49, 152],\n",
       "       [ 50, 142],\n",
       "       [ 53, 144],\n",
       "       [ 52, 152],\n",
       "       [ 55, 155],\n",
       "       [ 54, 124],\n",
       "       [ 60, 136],\n",
       "       [ 63, 139],\n",
       "       [ 86, 132],\n",
       "       [ 85, 115],\n",
       "       [ 85,  96],\n",
       "       [ 78,  94],\n",
       "       [ 74,  96],\n",
       "       [ 97, 122],\n",
       "       [ 98, 116],\n",
       "       [ 98, 124],\n",
       "       [ 99, 119],\n",
       "       [ 99, 128],\n",
       "       [101, 115],\n",
       "       [108, 111],\n",
       "       [110, 111],\n",
       "       [108, 116],\n",
       "       [111, 126],\n",
       "       [115, 117],\n",
       "       [117, 115],\n",
       "       [ 70,   4],\n",
       "       [ 77,  12],\n",
       "       [ 83,  21],\n",
       "       [ 61,  15],\n",
       "       [ 69,  15],\n",
       "       [ 78,  16],\n",
       "       [ 66,  18],\n",
       "       [ 58,  13],\n",
       "       [ 64,  20],\n",
       "       [ 69,  21],\n",
       "       [ 66,  23],\n",
       "       [ 61,  25],\n",
       "       [ 76,  27],\n",
       "       [ 72,  31],\n",
       "       [ 64,  30]], dtype=int64)"
      ]
     },
     "execution_count": 4,
     "metadata": {},
     "output_type": "execute_result"
    }
   ],
   "source": [
    "tabel = np.array(data)\n",
    "tabel\n",
    "tabel2 = []\n",
    "for i in range(len(tabel)):\n",
    "    coba = (tabel[i][0], tabel[i][1])\n",
    "    tabel2.append(coba)\n",
    "tabel"
   ]
  },
  {
   "cell_type": "code",
   "execution_count": 5,
   "metadata": {},
   "outputs": [],
   "source": [
    "def generateRandom(k):\n",
    "    sequence = [i for i in range(len(tabel))]\n",
    "    subset = sample(sequence, k)\n",
    "    return subset"
   ]
  },
  {
   "cell_type": "code",
   "execution_count": 6,
   "metadata": {},
   "outputs": [],
   "source": [
    "def generateCentroid(k):\n",
    "    \n",
    "    subset = generateRandom(k)\n",
    "    centroid =[]\n",
    "    for i in range(len(subset)):\n",
    "        centroid.append(tabel[subset[i]])\n",
    "    \n",
    "    return centroid"
   ]
  },
  {
   "cell_type": "code",
   "execution_count": 7,
   "metadata": {},
   "outputs": [],
   "source": [
    "def getEuclidean(coordinate1, coordinate2):\n",
    "    \n",
    "    quadraticResult = 0\n",
    "    \n",
    "    for i in range(len(coordinate1)):\n",
    "        quadraticResult += pow((coordinate1[i]-coordinate2[i]), 2)\n",
    "    \n",
    "    distance = pow(quadraticResult, 0.5)\n",
    "    \n",
    "    return distance"
   ]
  },
  {
   "cell_type": "code",
   "execution_count": 8,
   "metadata": {},
   "outputs": [],
   "source": [
    "def determineIndexCentroid(data, centroid):\n",
    "    \n",
    "    index = 0\n",
    "    \n",
    "    for i in range(len(centroid)):\n",
    "        if(i==0):\n",
    "            minDistance = getEuclidean(data, centroid[i])\n",
    "            index = i\n",
    "        else:\n",
    "            temp = getEuclidean(data, centroid[i])\n",
    "            if(temp < minDistance):\n",
    "                minDistance = temp\n",
    "                index = i\n",
    "    \n",
    "    return index, minDistance"
   ]
  },
  {
   "cell_type": "code",
   "execution_count": 9,
   "metadata": {},
   "outputs": [],
   "source": [
    "def determineCluster(centroid):\n",
    "    cluster = []\n",
    "    distance = []\n",
    "    for i in range(len(tabel)):\n",
    "        indexCluster = determineIndexCentroid(tabel[i], centroid)\n",
    "        cluster.append(indexCluster[0])\n",
    "        \n",
    "        minDistance = indexCluster[1]\n",
    "        distance.append(minDistance)\n",
    "        \n",
    "    return cluster, distance"
   ]
  },
  {
   "cell_type": "code",
   "execution_count": 10,
   "metadata": {},
   "outputs": [],
   "source": [
    "def updateCentroid(oldCentroid, cluster):\n",
    "    temp = (0,0)\n",
    "    count = 0\n",
    "    newCentroid = []\n",
    "\n",
    "    for i in range(len(centroid)):\n",
    "        for j in range(len(cluster)):\n",
    "            if(cluster[j]==i):\n",
    "                temp += tabel[j]\n",
    "                count+=1\n",
    "        temp = temp / count\n",
    "        newCentroid.append(temp)\n",
    "        temp = (0,0)\n",
    "        count = 0\n",
    "    \n",
    "    return newCentroid"
   ]
  },
  {
   "cell_type": "code",
   "execution_count": 11,
   "metadata": {},
   "outputs": [],
   "source": [
    "def separateByCentroid(cluster):\n",
    "    separated = {}\n",
    "    \n",
    "    for i in range(len(cluster)):\n",
    "        vector = cluster[i]\n",
    "        if (vector not in separated):\n",
    "            separated[vector] = []\n",
    "        separated[vector].append(tabel2[i])\n",
    "    \n",
    "    \n",
    "    return separated"
   ]
  },
  {
   "cell_type": "code",
   "execution_count": 12,
   "metadata": {},
   "outputs": [
    {
     "name": "stdout",
     "output_type": "stream",
     "text": [
      "[[108 111]\n",
      " [101 115]\n",
      " [117 115]\n",
      " [ 31  60]\n",
      " [ 98 116]\n",
      " [ 15  75]]\n"
     ]
    }
   ],
   "source": [
    "isChanged = True\n",
    "k = 6\n",
    "centroid = np.array(generateCentroid(k))\n",
    "cluster = []\n",
    "distance = []\n",
    "print(centroid)\n",
    "\n",
    "while(isChanged):\n",
    "    temp = determineCluster(centroid)\n",
    "    if(cluster != temp[0]):\n",
    "        cluster = temp[0]\n",
    "        distance = temp[1]\n",
    "        centroid = updateCentroid(centroid, cluster)\n",
    "        isChanged = True\n",
    "    else:\n",
    "        isChanged = False\n",
    "    "
   ]
  },
  {
   "cell_type": "code",
   "execution_count": 13,
   "metadata": {},
   "outputs": [
    {
     "data": {
      "text/plain": [
       "[array([ 95.375, 121.375]),\n",
       " array([79.        , 95.33333333]),\n",
       " array([111.5, 116. ]),\n",
       " array([68.93333333, 19.4       ]),\n",
       " array([ 43.91304348, 146.04347826]),\n",
       " array([20.15, 64.95])]"
      ]
     },
     "execution_count": 13,
     "metadata": {},
     "output_type": "execute_result"
    }
   ],
   "source": [
    "centroid"
   ]
  },
  {
   "cell_type": "code",
   "execution_count": 14,
   "metadata": {},
   "outputs": [
    {
     "data": {
      "text/plain": [
       "[5,\n",
       " 5,\n",
       " 5,\n",
       " 5,\n",
       " 5,\n",
       " 5,\n",
       " 5,\n",
       " 5,\n",
       " 5,\n",
       " 5,\n",
       " 5,\n",
       " 5,\n",
       " 5,\n",
       " 5,\n",
       " 5,\n",
       " 5,\n",
       " 5,\n",
       " 5,\n",
       " 5,\n",
       " 5,\n",
       " 4,\n",
       " 4,\n",
       " 4,\n",
       " 4,\n",
       " 4,\n",
       " 4,\n",
       " 4,\n",
       " 4,\n",
       " 4,\n",
       " 4,\n",
       " 4,\n",
       " 4,\n",
       " 4,\n",
       " 4,\n",
       " 4,\n",
       " 4,\n",
       " 4,\n",
       " 4,\n",
       " 4,\n",
       " 4,\n",
       " 4,\n",
       " 4,\n",
       " 4,\n",
       " 0,\n",
       " 0,\n",
       " 1,\n",
       " 1,\n",
       " 1,\n",
       " 0,\n",
       " 0,\n",
       " 0,\n",
       " 0,\n",
       " 0,\n",
       " 0,\n",
       " 2,\n",
       " 2,\n",
       " 2,\n",
       " 2,\n",
       " 2,\n",
       " 2,\n",
       " 3,\n",
       " 3,\n",
       " 3,\n",
       " 3,\n",
       " 3,\n",
       " 3,\n",
       " 3,\n",
       " 3,\n",
       " 3,\n",
       " 3,\n",
       " 3,\n",
       " 3,\n",
       " 3,\n",
       " 3,\n",
       " 3]"
      ]
     },
     "execution_count": 14,
     "metadata": {},
     "output_type": "execute_result"
    }
   ],
   "source": [
    "cluster"
   ]
  },
  {
   "cell_type": "code",
   "execution_count": 15,
   "metadata": {},
   "outputs": [],
   "source": [
    "clusterData =separateByCentroid(cluster)"
   ]
  },
  {
   "cell_type": "code",
   "execution_count": 16,
   "metadata": {},
   "outputs": [
    {
     "data": {
      "text/plain": [
       "{5: [(4, 53),\n",
       "  (5, 63),\n",
       "  (10, 59),\n",
       "  (9, 77),\n",
       "  (13, 49),\n",
       "  (13, 69),\n",
       "  (12, 88),\n",
       "  (15, 75),\n",
       "  (18, 61),\n",
       "  (19, 65),\n",
       "  (22, 74),\n",
       "  (27, 72),\n",
       "  (28, 76),\n",
       "  (24, 58),\n",
       "  (27, 55),\n",
       "  (28, 60),\n",
       "  (30, 52),\n",
       "  (31, 60),\n",
       "  (32, 61),\n",
       "  (36, 72)],\n",
       " 4: [(28, 147),\n",
       "  (32, 149),\n",
       "  (35, 153),\n",
       "  (33, 154),\n",
       "  (38, 151),\n",
       "  (41, 150),\n",
       "  (38, 145),\n",
       "  (38, 143),\n",
       "  (32, 143),\n",
       "  (34, 141),\n",
       "  (44, 156),\n",
       "  (44, 149),\n",
       "  (44, 143),\n",
       "  (46, 142),\n",
       "  (47, 149),\n",
       "  (49, 152),\n",
       "  (50, 142),\n",
       "  (53, 144),\n",
       "  (52, 152),\n",
       "  (55, 155),\n",
       "  (54, 124),\n",
       "  (60, 136),\n",
       "  (63, 139)],\n",
       " 0: [(86, 132),\n",
       "  (85, 115),\n",
       "  (97, 122),\n",
       "  (98, 116),\n",
       "  (98, 124),\n",
       "  (99, 119),\n",
       "  (99, 128),\n",
       "  (101, 115)],\n",
       " 1: [(85, 96), (78, 94), (74, 96)],\n",
       " 2: [(108, 111), (110, 111), (108, 116), (111, 126), (115, 117), (117, 115)],\n",
       " 3: [(70, 4),\n",
       "  (77, 12),\n",
       "  (83, 21),\n",
       "  (61, 15),\n",
       "  (69, 15),\n",
       "  (78, 16),\n",
       "  (66, 18),\n",
       "  (58, 13),\n",
       "  (64, 20),\n",
       "  (69, 21),\n",
       "  (66, 23),\n",
       "  (61, 25),\n",
       "  (76, 27),\n",
       "  (72, 31),\n",
       "  (64, 30)]}"
      ]
     },
     "execution_count": 16,
     "metadata": {},
     "output_type": "execute_result"
    }
   ],
   "source": [
    "clusterData"
   ]
  },
  {
   "cell_type": "code",
   "execution_count": 17,
   "metadata": {},
   "outputs": [],
   "source": [
    "data[\"cluster\"] = cluster\n",
    "data[\"distance\"] = distance"
   ]
  },
  {
   "cell_type": "code",
   "execution_count": 18,
   "metadata": {},
   "outputs": [
    {
     "data": {
      "text/html": [
       "<div>\n",
       "<style scoped>\n",
       "    .dataframe tbody tr th:only-of-type {\n",
       "        vertical-align: middle;\n",
       "    }\n",
       "\n",
       "    .dataframe tbody tr th {\n",
       "        vertical-align: top;\n",
       "    }\n",
       "\n",
       "    .dataframe thead th {\n",
       "        text-align: right;\n",
       "    }\n",
       "</style>\n",
       "<table border=\"1\" class=\"dataframe\">\n",
       "  <thead>\n",
       "    <tr style=\"text-align: right;\">\n",
       "      <th></th>\n",
       "      <th>x</th>\n",
       "      <th>y</th>\n",
       "      <th>cluster</th>\n",
       "      <th>distance</th>\n",
       "    </tr>\n",
       "  </thead>\n",
       "  <tbody>\n",
       "    <tr>\n",
       "      <th>0</th>\n",
       "      <td>4</td>\n",
       "      <td>53</td>\n",
       "      <td>5</td>\n",
       "      <td>20.090421</td>\n",
       "    </tr>\n",
       "    <tr>\n",
       "      <th>1</th>\n",
       "      <td>5</td>\n",
       "      <td>63</td>\n",
       "      <td>5</td>\n",
       "      <td>15.274980</td>\n",
       "    </tr>\n",
       "    <tr>\n",
       "      <th>2</th>\n",
       "      <td>10</td>\n",
       "      <td>59</td>\n",
       "      <td>5</td>\n",
       "      <td>11.765415</td>\n",
       "    </tr>\n",
       "    <tr>\n",
       "      <th>3</th>\n",
       "      <td>9</td>\n",
       "      <td>77</td>\n",
       "      <td>5</td>\n",
       "      <td>16.417217</td>\n",
       "    </tr>\n",
       "    <tr>\n",
       "      <th>4</th>\n",
       "      <td>13</td>\n",
       "      <td>49</td>\n",
       "      <td>5</td>\n",
       "      <td>17.479273</td>\n",
       "    </tr>\n",
       "    <tr>\n",
       "      <th>...</th>\n",
       "      <td>...</td>\n",
       "      <td>...</td>\n",
       "      <td>...</td>\n",
       "      <td>...</td>\n",
       "    </tr>\n",
       "    <tr>\n",
       "      <th>70</th>\n",
       "      <td>66</td>\n",
       "      <td>23</td>\n",
       "      <td>3</td>\n",
       "      <td>4.643753</td>\n",
       "    </tr>\n",
       "    <tr>\n",
       "      <th>71</th>\n",
       "      <td>61</td>\n",
       "      <td>25</td>\n",
       "      <td>3</td>\n",
       "      <td>9.710704</td>\n",
       "    </tr>\n",
       "    <tr>\n",
       "      <th>72</th>\n",
       "      <td>76</td>\n",
       "      <td>27</td>\n",
       "      <td>3</td>\n",
       "      <td>10.377754</td>\n",
       "    </tr>\n",
       "    <tr>\n",
       "      <th>73</th>\n",
       "      <td>72</td>\n",
       "      <td>31</td>\n",
       "      <td>3</td>\n",
       "      <td>11.998518</td>\n",
       "    </tr>\n",
       "    <tr>\n",
       "      <th>74</th>\n",
       "      <td>64</td>\n",
       "      <td>30</td>\n",
       "      <td>3</td>\n",
       "      <td>11.691782</td>\n",
       "    </tr>\n",
       "  </tbody>\n",
       "</table>\n",
       "<p>75 rows × 4 columns</p>\n",
       "</div>"
      ],
      "text/plain": [
       "     x   y  cluster   distance\n",
       "0    4  53        5  20.090421\n",
       "1    5  63        5  15.274980\n",
       "2   10  59        5  11.765415\n",
       "3    9  77        5  16.417217\n",
       "4   13  49        5  17.479273\n",
       "..  ..  ..      ...        ...\n",
       "70  66  23        3   4.643753\n",
       "71  61  25        3   9.710704\n",
       "72  76  27        3  10.377754\n",
       "73  72  31        3  11.998518\n",
       "74  64  30        3  11.691782\n",
       "\n",
       "[75 rows x 4 columns]"
      ]
     },
     "execution_count": 18,
     "metadata": {},
     "output_type": "execute_result"
    }
   ],
   "source": [
    "data"
   ]
  },
  {
   "cell_type": "code",
   "execution_count": 19,
   "metadata": {},
   "outputs": [],
   "source": [
    "data_x = np.array(data)[:, :-2]"
   ]
  },
  {
   "cell_type": "code",
   "execution_count": 20,
   "metadata": {},
   "outputs": [
    {
     "data": {
      "text/plain": [
       "array([[  4.,  53.],\n",
       "       [  5.,  63.],\n",
       "       [ 10.,  59.],\n",
       "       [  9.,  77.],\n",
       "       [ 13.,  49.],\n",
       "       [ 13.,  69.],\n",
       "       [ 12.,  88.],\n",
       "       [ 15.,  75.],\n",
       "       [ 18.,  61.],\n",
       "       [ 19.,  65.],\n",
       "       [ 22.,  74.],\n",
       "       [ 27.,  72.],\n",
       "       [ 28.,  76.],\n",
       "       [ 24.,  58.],\n",
       "       [ 27.,  55.],\n",
       "       [ 28.,  60.],\n",
       "       [ 30.,  52.],\n",
       "       [ 31.,  60.],\n",
       "       [ 32.,  61.],\n",
       "       [ 36.,  72.],\n",
       "       [ 28., 147.],\n",
       "       [ 32., 149.],\n",
       "       [ 35., 153.],\n",
       "       [ 33., 154.],\n",
       "       [ 38., 151.],\n",
       "       [ 41., 150.],\n",
       "       [ 38., 145.],\n",
       "       [ 38., 143.],\n",
       "       [ 32., 143.],\n",
       "       [ 34., 141.],\n",
       "       [ 44., 156.],\n",
       "       [ 44., 149.],\n",
       "       [ 44., 143.],\n",
       "       [ 46., 142.],\n",
       "       [ 47., 149.],\n",
       "       [ 49., 152.],\n",
       "       [ 50., 142.],\n",
       "       [ 53., 144.],\n",
       "       [ 52., 152.],\n",
       "       [ 55., 155.],\n",
       "       [ 54., 124.],\n",
       "       [ 60., 136.],\n",
       "       [ 63., 139.],\n",
       "       [ 86., 132.],\n",
       "       [ 85., 115.],\n",
       "       [ 85.,  96.],\n",
       "       [ 78.,  94.],\n",
       "       [ 74.,  96.],\n",
       "       [ 97., 122.],\n",
       "       [ 98., 116.],\n",
       "       [ 98., 124.],\n",
       "       [ 99., 119.],\n",
       "       [ 99., 128.],\n",
       "       [101., 115.],\n",
       "       [108., 111.],\n",
       "       [110., 111.],\n",
       "       [108., 116.],\n",
       "       [111., 126.],\n",
       "       [115., 117.],\n",
       "       [117., 115.],\n",
       "       [ 70.,   4.],\n",
       "       [ 77.,  12.],\n",
       "       [ 83.,  21.],\n",
       "       [ 61.,  15.],\n",
       "       [ 69.,  15.],\n",
       "       [ 78.,  16.],\n",
       "       [ 66.,  18.],\n",
       "       [ 58.,  13.],\n",
       "       [ 64.,  20.],\n",
       "       [ 69.,  21.],\n",
       "       [ 66.,  23.],\n",
       "       [ 61.,  25.],\n",
       "       [ 76.,  27.],\n",
       "       [ 72.,  31.],\n",
       "       [ 64.,  30.]])"
      ]
     },
     "execution_count": 20,
     "metadata": {},
     "output_type": "execute_result"
    }
   ],
   "source": [
    "data_x"
   ]
  },
  {
   "cell_type": "code",
   "execution_count": 21,
   "metadata": {},
   "outputs": [
    {
     "data": {
      "text/plain": [
       "<matplotlib.axes._subplots.AxesSubplot at 0x1da39210e80>"
      ]
     },
     "execution_count": 21,
     "metadata": {},
     "output_type": "execute_result"
    },
    {
     "data": {
      "image/png": "[encoded data removed]",
      "text/plain": [
       "<Figure size 432x288 with 1 Axes>"
      ]
     },
     "metadata": {
      "needs_background": "light"
     },
     "output_type": "display_data"
    }
   ],
   "source": [
    "sns.scatterplot(x=\"x\", y=\"y\", data=data, s=100, color=\"red\", alpha = 0.5)"
   ]
  },
  {
   "cell_type": "code",
   "execution_count": 22,
   "metadata": {},
   "outputs": [],
   "source": [
    "cnt = np.array(centroid)"
   ]
  },
  {
   "cell_type": "code",
   "execution_count": 23,
   "metadata": {},
   "outputs": [
    {
     "data": {
      "text/plain": [
       "array([[ 95.375     , 121.375     ],\n",
       "       [ 79.        ,  95.33333333],\n",
       "       [111.5       , 116.        ],\n",
       "       [ 68.93333333,  19.4       ],\n",
       "       [ 43.91304348, 146.04347826],\n",
       "       [ 20.15      ,  64.95      ]])"
      ]
     },
     "execution_count": 23,
     "metadata": {},
     "output_type": "execute_result"
    }
   ],
   "source": [
    "cnt"
   ]
  },
  {
   "cell_type": "code",
   "execution_count": 24,
   "metadata": {},
   "outputs": [
    {
     "data": {
      "image/png": "[encoded data removed]",
      "text/plain": [
       "<Figure size 432x288 with 1 Axes>"
      ]
     },
     "metadata": {
      "needs_background": "light"
     },
     "output_type": "display_data"
    }
   ],
   "source": [
    "fig, ax = plt.subplots()\n",
    "sct = ax.scatter(data_x[:,0], data_x[:,1], s = 20, c = cluster, marker = \"o\", alpha = 0.5)\n",
    "\n",
    "centers = cnt\n",
    "ax.scatter(centers[:,0], centers[:,1], c='red', s=200, alpha=1)\n",
    "plt.title(\"Hasil Klustering K-Means\")\n",
    "plt.xlabel(\"Data X\")\n",
    "plt.ylabel(\"Data Y\")\n",
    "plt.show()"
   ]
  },
  {
   "cell_type": "code",
   "execution_count": 25,
   "metadata": {},
   "outputs": [
    {
     "data": {
      "image/png": "[encoded data removed]",
      "text/plain": [
       "<Figure size 576x288 with 1 Axes>"
      ]
     },
     "metadata": {
      "needs_background": "light"
     },
     "output_type": "display_data"
    }
   ],
   "source": [
    "cl = np.array(data)[:, 2]\n",
    "\n",
    "plt.figure(figsize=(8,4))\n",
    "sns.scatterplot(data_x[:,0], data_x[:,1], hue=cl,\n",
    "                palette=sns.color_palette('hls', k))\n",
    "\n",
    "plt.title('Hasil Clustering K-means')\n",
    "plt.show()"
   ]
  }
 ],
 "metadata": {
  "kernelspec": {
   "display_name": "Python 3",
   "language": "python",
   "name": "python3"
  },
  "language_info": {
   "codemirror_mode": {
    "name": "ipython",
    "version": 3
   },
   "file_extension": ".py",
   "mimetype": "text/x-python",
   "name": "python",
   "nbconvert_exporter": "python",
   "pygments_lexer": "ipython3",
   "version": "3.8.3"
  }
 },
 "nbformat": 4,
 "nbformat_minor": 4
}
