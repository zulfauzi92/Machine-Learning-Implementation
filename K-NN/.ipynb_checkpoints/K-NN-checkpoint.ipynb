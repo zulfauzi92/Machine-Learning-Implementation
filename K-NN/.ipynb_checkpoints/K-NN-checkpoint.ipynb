{
 "cells": [
  {
   "cell_type": "code",
   "execution_count": 159,
   "metadata": {},
   "outputs": [],
   "source": [
    "import pandas as pd\n",
    "import numpy as np"
   ]
  },
  {
   "cell_type": "code",
   "execution_count": 160,
   "metadata": {},
   "outputs": [],
   "source": [
    "data = pd.read_csv('hipertensi.csv')"
   ]
  },
  {
   "cell_type": "code",
   "execution_count": 161,
   "metadata": {},
   "outputs": [
    {
     "data": {
      "text/html": [
       "<div>\n",
       "<style scoped>\n",
       "    .dataframe tbody tr th:only-of-type {\n",
       "        vertical-align: middle;\n",
       "    }\n",
       "\n",
       "    .dataframe tbody tr th {\n",
       "        vertical-align: top;\n",
       "    }\n",
       "\n",
       "    .dataframe thead th {\n",
       "        text-align: right;\n",
       "    }\n",
       "</style>\n",
       "<table border=\"1\" class=\"dataframe\">\n",
       "  <thead>\n",
       "    <tr style=\"text-align: right;\">\n",
       "      <th></th>\n",
       "      <th>umur</th>\n",
       "      <th>kegemukan</th>\n",
       "      <th>hipertensi</th>\n",
       "    </tr>\n",
       "  </thead>\n",
       "  <tbody>\n",
       "    <tr>\n",
       "      <th>0</th>\n",
       "      <td>muda</td>\n",
       "      <td>gemuk</td>\n",
       "      <td>tidak</td>\n",
       "    </tr>\n",
       "    <tr>\n",
       "      <th>1</th>\n",
       "      <td>muda</td>\n",
       "      <td>sangat gemuk</td>\n",
       "      <td>tidak</td>\n",
       "    </tr>\n",
       "    <tr>\n",
       "      <th>2</th>\n",
       "      <td>paruh baya</td>\n",
       "      <td>gemuk</td>\n",
       "      <td>tidak</td>\n",
       "    </tr>\n",
       "    <tr>\n",
       "      <th>3</th>\n",
       "      <td>paruh baya</td>\n",
       "      <td>terlalu gemuk</td>\n",
       "      <td>ya</td>\n",
       "    </tr>\n",
       "    <tr>\n",
       "      <th>4</th>\n",
       "      <td>tua</td>\n",
       "      <td>terlalu gemuk</td>\n",
       "      <td>ya</td>\n",
       "    </tr>\n",
       "  </tbody>\n",
       "</table>\n",
       "</div>"
      ],
      "text/plain": [
       "         umur      kegemukan hipertensi\n",
       "0        muda          gemuk      tidak\n",
       "1        muda   sangat gemuk      tidak\n",
       "2  paruh baya          gemuk      tidak\n",
       "3  paruh baya  terlalu gemuk         ya\n",
       "4         tua  terlalu gemuk         ya"
      ]
     },
     "execution_count": 161,
     "metadata": {},
     "output_type": "execute_result"
    }
   ],
   "source": [
    "data"
   ]
  },
  {
   "cell_type": "code",
   "execution_count": 162,
   "metadata": {},
   "outputs": [],
   "source": [
    "umur = np.array(data)[:,0]\n",
    "kegemukan = np.array(data)[:,1]\n",
    "atribut = np.array(data)[:,:]"
   ]
  },
  {
   "cell_type": "code",
   "execution_count": 163,
   "metadata": {},
   "outputs": [
    {
     "data": {
      "text/plain": [
       "array(['muda', 'muda', 'paruh baya', 'paruh baya', 'tua'], dtype=object)"
      ]
     },
     "execution_count": 163,
     "metadata": {},
     "output_type": "execute_result"
    }
   ],
   "source": [
    "umur"
   ]
  },
  {
   "cell_type": "code",
   "execution_count": 164,
   "metadata": {},
   "outputs": [
    {
     "data": {
      "text/plain": [
       "array(['gemuk', 'sangat gemuk', 'gemuk', 'terlalu gemuk', 'terlalu gemuk'],\n",
       "      dtype=object)"
      ]
     },
     "execution_count": 164,
     "metadata": {},
     "output_type": "execute_result"
    }
   ],
   "source": [
    "kegemukan"
   ]
  },
  {
   "cell_type": "code",
   "execution_count": 165,
   "metadata": {},
   "outputs": [],
   "source": [
    "dictionary = {'muda':1,\n",
    "      'paruh baya':2,\n",
    "      'tua':3,\n",
    "      'gemuk':1,\n",
    "      'sangat gemuk':2,\n",
    "      'terlalu gemuk':3\n",
    "     }"
   ]
  },
  {
   "cell_type": "code",
   "execution_count": 166,
   "metadata": {},
   "outputs": [],
   "source": [
    "def getCoordinate(umur,kegemukan):\n",
    "    return dictionary[umur],dict[kegemukan]"
   ]
  },
  {
   "cell_type": "code",
   "execution_count": 167,
   "metadata": {},
   "outputs": [
    {
     "data": {
      "text/plain": [
       "(1, 1)"
      ]
     },
     "execution_count": 167,
     "metadata": {},
     "output_type": "execute_result"
    }
   ],
   "source": [
    "getCoordinate(umur[0], kegemukan[0])"
   ]
  },
  {
   "cell_type": "code",
   "execution_count": 168,
   "metadata": {},
   "outputs": [],
   "source": [
    "#get distance from two coordinate\n",
    "def getEuclidean(coordinate1,coordinate2):\n",
    "    distance = pow((coordinate1[0]-coordinate2[0]),2)+ pow((coordinate1[0]-coordinate2[0]),2)\n",
    "    return pow(distance,0.5)"
   ]
  },
  {
   "cell_type": "code",
   "execution_count": 169,
   "metadata": {},
   "outputs": [
    {
     "data": {
      "text/plain": [
       "1.4142135623730951"
      ]
     },
     "execution_count": 169,
     "metadata": {},
     "output_type": "execute_result"
    }
   ],
   "source": [
    "getEuclidean((1,2),(2,3))"
   ]
  },
  {
   "cell_type": "code",
   "execution_count": 170,
   "metadata": {},
   "outputs": [],
   "source": [
    "def getNeighbour(input):\n",
    "    distances = []\n",
    "    for i in range(len(atribut)):\n",
    "        dist = getEuclidean(getCoordinate(umur[i],kegemukan[i]),input)\n",
    "        distances.append((dist,atribut[i]))\n",
    "    \n",
    "    distances.sort(key = lambda x:x[0])\n",
    "    return distances"
   ]
  },
  {
   "cell_type": "code",
   "execution_count": 171,
   "metadata": {},
   "outputs": [
    {
     "data": {
      "text/plain": [
       "[(0.0, array(['paruh baya', 'gemuk', 'tidak'], dtype=object)),\n",
       " (0.0, array(['paruh baya', 'terlalu gemuk', 'ya'], dtype=object)),\n",
       " (1.4142135623730951, array(['muda', 'gemuk', 'tidak'], dtype=object)),\n",
       " (1.4142135623730951, array(['muda', 'sangat gemuk', 'tidak'], dtype=object)),\n",
       " (1.4142135623730951, array(['tua', 'terlalu gemuk', 'ya'], dtype=object))]"
      ]
     },
     "execution_count": 171,
     "metadata": {},
     "output_type": "execute_result"
    }
   ],
   "source": [
    "getNeighbour((2,3))"
   ]
  },
  {
   "cell_type": "code",
   "execution_count": 172,
   "metadata": {},
   "outputs": [],
   "source": [
    "def prediction(distances, k):\n",
    "    yes = 0\n",
    "    no = 0\n",
    "    for i in range(k):\n",
    "        if(distances[i][1][2] == 'ya'):\n",
    "            yes += 1\n",
    "        else :\n",
    "            no += 1\n",
    "    if(yes > no):\n",
    "        return 'ya'\n",
    "    else :\n",
    "        return 'tidak'"
   ]
  },
  {
   "cell_type": "code",
   "execution_count": 173,
   "metadata": {},
   "outputs": [],
   "source": [
    "def main():\n",
    "    coordinate = getCoordinate('tua','sangat gemuk')\n",
    "    print(\"Coordinate = \", coordinate)\n",
    "    neighbour = getNeighbour(coordinate)\n",
    "    print(\"\\nDetail = \\n\", neighbour)\n",
    "    result = prediction(neighbour, 3)\n",
    "    print(\"\\nResult = \", result)"
   ]
  },
  {
   "cell_type": "code",
   "execution_count": 174,
   "metadata": {},
   "outputs": [
    {
     "name": "stdout",
     "output_type": "stream",
     "text": [
      "Coordinate =  (3, 2)\n",
      "\n",
      "Detail = \n",
      " [(0.0, array(['tua', 'terlalu gemuk', 'ya'], dtype=object)), (1.4142135623730951, array(['paruh baya', 'gemuk', 'tidak'], dtype=object)), (1.4142135623730951, array(['paruh baya', 'terlalu gemuk', 'ya'], dtype=object)), (2.8284271247461903, array(['muda', 'gemuk', 'tidak'], dtype=object)), (2.8284271247461903, array(['muda', 'sangat gemuk', 'tidak'], dtype=object))]\n",
      "\n",
      "Result =  ya\n"
     ]
    }
   ],
   "source": [
    "main()"
   ]
  },
  {
   "cell_type": "code",
   "execution_count": null,
   "metadata": {},
   "outputs": [],
   "source": []
  },
  {
   "cell_type": "code",
   "execution_count": null,
   "metadata": {},
   "outputs": [],
   "source": []
  }
 ],
 "metadata": {
  "kernelspec": {
   "display_name": "Python 3",
   "language": "python",
   "name": "python3"
  },
  "language_info": {
   "codemirror_mode": {
    "name": "ipython",
    "version": 3
   },
   "file_extension": ".py",
   "mimetype": "text/x-python",
   "name": "python",
   "nbconvert_exporter": "python",
   "pygments_lexer": "ipython3",
   "version": "3.8.3"
  }
 },
 "nbformat": 4,
 "nbformat_minor": 4
}
